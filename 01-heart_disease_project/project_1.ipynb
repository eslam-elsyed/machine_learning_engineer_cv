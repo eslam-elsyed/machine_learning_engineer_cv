{
  "cells": [
    {
      "cell_type": "markdown",
      "source": [
        "# importing libraries"
      ],
      "metadata": {
        "id": "3JbZ6n195Fy2"
      },
      "id": "3JbZ6n195Fy2"
    },
    {
      "cell_type": "code",
      "source": [
        "from google.colab import drive\n",
        "drive.mount('/content/drive')"
      ],
      "metadata": {
        "id": "0fajIP8FgCo4",
        "outputId": "8c9da3da-0da1-4fa9-ce6e-7e862f3550a2",
        "colab": {
          "base_uri": "https://localhost:8080/"
        }
      },
      "id": "0fajIP8FgCo4",
      "execution_count": 1,
      "outputs": [
        {
          "output_type": "stream",
          "name": "stdout",
          "text": [
            "Mounted at /content/drive\n"
          ]
        }
      ]
    },
    {
      "cell_type": "code",
      "execution_count": 2,
      "id": "f5f5d78d-9e64-4ffc-992b-cdd3b090c691",
      "metadata": {
        "tags": [],
        "id": "f5f5d78d-9e64-4ffc-992b-cdd3b090c691"
      },
      "outputs": [],
      "source": [
        "import pandas as pd\n",
        "import numpy as np\n",
        "import matplotlib.pyplot as plt\n",
        "import seaborn as sns"
      ]
    },
    {
      "cell_type": "markdown",
      "source": [
        "# Reading Data"
      ],
      "metadata": {
        "id": "-NXy8tq-5UyK"
      },
      "id": "-NXy8tq-5UyK"
    },
    {
      "cell_type": "code",
      "execution_count": 3,
      "id": "0c27e093-1fe6-4752-98e6-b1f0280a20a7",
      "metadata": {
        "colab": {
          "base_uri": "https://localhost:8080/"
        },
        "id": "0c27e093-1fe6-4752-98e6-b1f0280a20a7",
        "outputId": "86429793-a98d-478b-d0c8-367ef51423fc"
      },
      "outputs": [
        {
          "output_type": "stream",
          "name": "stdout",
          "text": [
            "Data shapeis: (319795, 18)\n"
          ]
        }
      ],
      "source": [
        "try:\n",
        "    url = '/content/drive/MyDrive/Datasets/heart-disease/heart_2020_cleaned.csv'\n",
        "    df = pd.read_csv(url)\n",
        "    print(f'Data shapeis: {df.shape}')\n",
        "except Exception as e:\n",
        "    print('Error message is:', e)"
      ]
    },
    {
      "cell_type": "markdown",
      "source": [
        "# Information from Data"
      ],
      "metadata": {
        "id": "bcsN1VEO59dE"
      },
      "id": "bcsN1VEO59dE"
    },
    {
      "cell_type": "code",
      "source": [
        "print('head of data:\\n{0}\\ndtypes:\\n{1}\\ninfo:{2}\\nsumof nulls:\\n{3}'\n",
        "            .format(df.head(), df.dtypes, df.info(), df.isnull().sum()))"
      ],
      "metadata": {
        "colab": {
          "base_uri": "https://localhost:8080/"
        },
        "id": "Y_rB4UF-yN6V",
        "outputId": "c234a0ce-4124-40ed-8d61-a0da133176fc"
      },
      "id": "Y_rB4UF-yN6V",
      "execution_count": 4,
      "outputs": [
        {
          "output_type": "stream",
          "name": "stdout",
          "text": [
            "<class 'pandas.core.frame.DataFrame'>\n",
            "RangeIndex: 319795 entries, 0 to 319794\n",
            "Data columns (total 18 columns):\n",
            " #   Column            Non-Null Count   Dtype  \n",
            "---  ------            --------------   -----  \n",
            " 0   HeartDisease      319795 non-null  object \n",
            " 1   BMI               319795 non-null  float64\n",
            " 2   Smoking           319795 non-null  object \n",
            " 3   AlcoholDrinking   319795 non-null  object \n",
            " 4   Stroke            319795 non-null  object \n",
            " 5   PhysicalHealth    319795 non-null  float64\n",
            " 6   MentalHealth      319795 non-null  float64\n",
            " 7   DiffWalking       319795 non-null  object \n",
            " 8   Sex               319795 non-null  object \n",
            " 9   AgeCategory       319795 non-null  object \n",
            " 10  Race              319795 non-null  object \n",
            " 11  Diabetic          319795 non-null  object \n",
            " 12  PhysicalActivity  319795 non-null  object \n",
            " 13  GenHealth         319795 non-null  object \n",
            " 14  SleepTime         319795 non-null  float64\n",
            " 15  Asthma            319795 non-null  object \n",
            " 16  KidneyDisease     319795 non-null  object \n",
            " 17  SkinCancer        319795 non-null  object \n",
            "dtypes: float64(4), object(14)\n",
            "memory usage: 43.9+ MB\n",
            "head of data:\n",
            "  HeartDisease    BMI Smoking AlcoholDrinking Stroke  PhysicalHealth  \\\n",
            "0           No  16.60     Yes              No     No             3.0   \n",
            "1           No  20.34      No              No    Yes             0.0   \n",
            "2           No  26.58     Yes              No     No            20.0   \n",
            "3           No  24.21      No              No     No             0.0   \n",
            "4           No  23.71      No              No     No            28.0   \n",
            "\n",
            "   MentalHealth DiffWalking     Sex  AgeCategory   Race Diabetic  \\\n",
            "0          30.0          No  Female        55-59  White      Yes   \n",
            "1           0.0          No  Female  80 or older  White       No   \n",
            "2          30.0          No    Male        65-69  White      Yes   \n",
            "3           0.0          No  Female        75-79  White       No   \n",
            "4           0.0         Yes  Female        40-44  White       No   \n",
            "\n",
            "  PhysicalActivity  GenHealth  SleepTime Asthma KidneyDisease SkinCancer  \n",
            "0              Yes  Very good        5.0    Yes            No        Yes  \n",
            "1              Yes  Very good        7.0     No            No         No  \n",
            "2              Yes       Fair        8.0    Yes            No         No  \n",
            "3               No       Good        6.0     No            No        Yes  \n",
            "4              Yes  Very good        8.0     No            No         No  \n",
            "dtypes:\n",
            "HeartDisease         object\n",
            "BMI                 float64\n",
            "Smoking              object\n",
            "AlcoholDrinking      object\n",
            "Stroke               object\n",
            "PhysicalHealth      float64\n",
            "MentalHealth        float64\n",
            "DiffWalking          object\n",
            "Sex                  object\n",
            "AgeCategory          object\n",
            "Race                 object\n",
            "Diabetic             object\n",
            "PhysicalActivity     object\n",
            "GenHealth            object\n",
            "SleepTime           float64\n",
            "Asthma               object\n",
            "KidneyDisease        object\n",
            "SkinCancer           object\n",
            "dtype: object\n",
            "info:None\n",
            "sumof nulls:\n",
            "HeartDisease        0\n",
            "BMI                 0\n",
            "Smoking             0\n",
            "AlcoholDrinking     0\n",
            "Stroke              0\n",
            "PhysicalHealth      0\n",
            "MentalHealth        0\n",
            "DiffWalking         0\n",
            "Sex                 0\n",
            "AgeCategory         0\n",
            "Race                0\n",
            "Diabetic            0\n",
            "PhysicalActivity    0\n",
            "GenHealth           0\n",
            "SleepTime           0\n",
            "Asthma              0\n",
            "KidneyDisease       0\n",
            "SkinCancer          0\n",
            "dtype: int64\n"
          ]
        }
      ]
    },
    {
      "cell_type": "code",
      "source": [
        "# Create DataFrame and drop rows with at least one value\n",
        "# used dropna to delete rows that contains nulls\n",
        "HeartDiseaseDataf = pd.DataFrame(df).dropna()\n",
        "# check again the size of data:\n",
        "print('new DataFrame shape is: {}'.format(HeartDiseaseDataf.shape))\n",
        "\n",
        "for column in HeartDiseaseDataf:\n",
        "  # get the unique values for every column\n",
        "  uniq_val = np.unique(HeartDiseaseDataf[column])\n",
        "  # count the unique values for every column\n",
        "  np_val = len(uniq_val)\n",
        "  if np_val < 15:\n",
        "    print('The number of values for feature {} : {} -- :{}'.format(column, np_val, uniq_val))\n",
        "  else:\n",
        "    print('The number of values for feature {} : {}'.format(column, np_val))"
      ],
      "metadata": {
        "colab": {
          "base_uri": "https://localhost:8080/"
        },
        "id": "-C3x3MvbKyjG",
        "outputId": "9e2204d1-157b-430b-9756-f20c6ab02531"
      },
      "id": "-C3x3MvbKyjG",
      "execution_count": 6,
      "outputs": [
        {
          "output_type": "stream",
          "name": "stdout",
          "text": [
            "new DataFrame shape is: (319795, 18)\n",
            "The number of values for feature HeartDisease : 2 -- :['No' 'Yes']\n",
            "The number of values for feature BMI : 3604\n",
            "The number of values for feature Smoking : 2 -- :['No' 'Yes']\n",
            "The number of values for feature AlcoholDrinking : 2 -- :['No' 'Yes']\n",
            "The number of values for feature Stroke : 2 -- :['No' 'Yes']\n",
            "The number of values for feature PhysicalHealth : 31\n",
            "The number of values for feature MentalHealth : 31\n",
            "The number of values for feature DiffWalking : 2 -- :['No' 'Yes']\n",
            "The number of values for feature Sex : 2 -- :['Female' 'Male']\n",
            "The number of values for feature AgeCategory : 13 -- :['18-24' '25-29' '30-34' '35-39' '40-44' '45-49' '50-54' '55-59' '60-64'\n",
            " '65-69' '70-74' '75-79' '80 or older']\n",
            "The number of values for feature Race : 6 -- :['American Indian/Alaskan Native' 'Asian' 'Black' 'Hispanic' 'Other'\n",
            " 'White']\n",
            "The number of values for feature Diabetic : 4 -- :['No' 'No, borderline diabetes' 'Yes' 'Yes (during pregnancy)']\n",
            "The number of values for feature PhysicalActivity : 2 -- :['No' 'Yes']\n",
            "The number of values for feature GenHealth : 5 -- :['Excellent' 'Fair' 'Good' 'Poor' 'Very good']\n",
            "The number of values for feature SleepTime : 24\n",
            "The number of values for feature Asthma : 2 -- :['No' 'Yes']\n",
            "The number of values for feature KidneyDisease : 2 -- :['No' 'Yes']\n",
            "The number of values for feature SkinCancer : 2 -- :['No' 'Yes']\n"
          ]
        }
      ]
    },
    {
      "cell_type": "code",
      "source": [
        "# NADP is: NumberofALcoholHeartDiseasePersons\n",
        "# NADP_Not is: NumberofNotALcoholHeartDiseasePersons\n",
        "def AlcoholDrinking():\n",
        "  NADP = 0\n",
        "  NADP_Not = 0\n",
        "  for Disease, Alcohol in zip(df['HeartDisease'], df['AlcoholDrinking']):\n",
        "    if Disease == 1 and Alcohol == 1:\n",
        "      NADP += 1\n",
        "    elif Disease == 0 and Alcohol == 1:\n",
        "      NADP_Not += 1\n",
        "  NADPPeracentage ="
      ],
      "metadata": {
        "colab": {
          "base_uri": "https://localhost:8080/",
          "height": 106
        },
        "id": "F8K6Zqps66Uo",
        "outputId": "0003b484-60be-4caf-bf08-5f229f7b916a"
      },
      "id": "F8K6Zqps66Uo",
      "execution_count": 4,
      "outputs": [
        {
          "output_type": "error",
          "ename": "SyntaxError",
          "evalue": "invalid syntax (<ipython-input-4-db988a12a8e7>, line 11)",
          "traceback": [
            "\u001b[0;36m  File \u001b[0;32m\"<ipython-input-4-db988a12a8e7>\"\u001b[0;36m, line \u001b[0;32m11\u001b[0m\n\u001b[0;31m    NADPPeracentage =\u001b[0m\n\u001b[0m                          ^\u001b[0m\n\u001b[0;31mSyntaxError\u001b[0m\u001b[0;31m:\u001b[0m invalid syntax\n"
          ]
        }
      ]
    },
    {
      "cell_type": "code",
      "source": [],
      "metadata": {
        "id": "uoRZVg15Akeh"
      },
      "id": "uoRZVg15Akeh",
      "execution_count": null,
      "outputs": []
    }
  ],
  "metadata": {
    "kernelspec": {
      "display_name": "Python 3",
      "name": "python3"
    },
    "language_info": {
      "codemirror_mode": {
        "name": "ipython",
        "version": 3
      },
      "file_extension": ".py",
      "mimetype": "text/x-python",
      "name": "python",
      "nbconvert_exporter": "python",
      "pygments_lexer": "ipython3",
      "version": "3.10.9"
    },
    "colab": {
      "provenance": [],
      "gpuType": "T4"
    },
    "accelerator": "GPU"
  },
  "nbformat": 4,
  "nbformat_minor": 5
}