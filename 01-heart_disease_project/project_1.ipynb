{
  "cells": [
    {
      "cell_type": "markdown",
      "source": [
        "# importing libraries"
      ],
      "metadata": {
        "id": "3JbZ6n195Fy2"
      },
      "id": "3JbZ6n195Fy2"
    },
    {
      "cell_type": "code",
      "execution_count": 4,
      "id": "f5f5d78d-9e64-4ffc-992b-cdd3b090c691",
      "metadata": {
        "tags": [],
        "id": "f5f5d78d-9e64-4ffc-992b-cdd3b090c691"
      },
      "outputs": [],
      "source": [
        "import pandas as pd\n",
        "import numpy as np\n",
        "import matplotlib.pyplot as plt\n",
        "import seaborn as sns"
      ]
    },
    {
      "cell_type": "markdown",
      "source": [
        "# Reading Data"
      ],
      "metadata": {
        "id": "-NXy8tq-5UyK"
      },
      "id": "-NXy8tq-5UyK"
    },
    {
      "cell_type": "code",
      "execution_count": 5,
      "id": "0c27e093-1fe6-4752-98e6-b1f0280a20a7",
      "metadata": {
        "colab": {
          "base_uri": "https://localhost:8080/"
        },
        "id": "0c27e093-1fe6-4752-98e6-b1f0280a20a7",
        "outputId": "82c7410e-575d-4733-c22c-80619049ed36"
      },
      "outputs": [
        {
          "output_type": "stream",
          "name": "stdout",
          "text": [
            "Data shapeis: (919, 16)\n"
          ]
        }
      ],
      "source": [
        "try:\n",
        "    url = 'https://raw.githubusercontent.com/eslam-elsyed/machine_learning_engineer_cv/refs/heads/main/data/heart_disease_cleaned.csv'\n",
        "    df = pd.read_csv(url)\n",
        "    print(f'Data shapeis: {df.shape}')\n",
        "except Exception as e:\n",
        "    print('Error message is:', e)"
      ]
    },
    {
      "cell_type": "markdown",
      "source": [
        "# Information from Data"
      ],
      "metadata": {
        "id": "bcsN1VEO59dE"
      },
      "id": "bcsN1VEO59dE"
    },
    {
      "cell_type": "code",
      "source": [
        "print('head of data:\\n{0}\\ndtypes:\\n{1}\\ninfo:{2}\\nsumof nulls:\\n{3}'\n",
        "            .format(df.head(), df.dtypes, df.info(), df.isnull().sum()))"
      ],
      "metadata": {
        "colab": {
          "base_uri": "https://localhost:8080/"
        },
        "id": "Y_rB4UF-yN6V",
        "outputId": "dcab04fa-7893-4227-a387-67791cabb995"
      },
      "id": "Y_rB4UF-yN6V",
      "execution_count": 7,
      "outputs": [
        {
          "output_type": "stream",
          "name": "stdout",
          "text": [
            "<class 'pandas.core.frame.DataFrame'>\n",
            "RangeIndex: 919 entries, 0 to 918\n",
            "Data columns (total 16 columns):\n",
            " #   Column    Non-Null Count  Dtype  \n",
            "---  ------    --------------  -----  \n",
            " 0   id        919 non-null    int64  \n",
            " 1   age       919 non-null    int64  \n",
            " 2   sex       919 non-null    object \n",
            " 3   dataset   919 non-null    object \n",
            " 4   cp        919 non-null    object \n",
            " 5   trestbps  919 non-null    float64\n",
            " 6   chol      919 non-null    float64\n",
            " 7   fbs       919 non-null    bool   \n",
            " 8   restecg   919 non-null    object \n",
            " 9   thalch    919 non-null    float64\n",
            " 10  exang     919 non-null    bool   \n",
            " 11  oldpeak   919 non-null    float64\n",
            " 12  slope     919 non-null    object \n",
            " 13  ca        919 non-null    float64\n",
            " 14  thal      919 non-null    object \n",
            " 15  num       919 non-null    int64  \n",
            "dtypes: bool(2), float64(5), int64(3), object(6)\n",
            "memory usage: 102.4+ KB\n",
            "head of data:\n",
            "   id  age     sex    dataset               cp  trestbps   chol    fbs  \\\n",
            "0   1   63    Male  Cleveland   typical angina     145.0  233.0   True   \n",
            "1   2   67    Male  Cleveland     asymptomatic     160.0  286.0  False   \n",
            "2   3   67    Male  Cleveland     asymptomatic     120.0  229.0  False   \n",
            "3   4   37    Male  Cleveland      non-anginal     130.0  250.0  False   \n",
            "4   5   41  Female  Cleveland  atypical angina     130.0  204.0  False   \n",
            "\n",
            "          restecg  thalch  exang  oldpeak        slope   ca  \\\n",
            "0  lv hypertrophy   150.0  False      2.3  downsloping  0.0   \n",
            "1  lv hypertrophy   108.0   True      1.5         flat  3.0   \n",
            "2  lv hypertrophy   129.0   True      2.6         flat  2.0   \n",
            "3          normal   187.0  False      3.5  downsloping  0.0   \n",
            "4  lv hypertrophy   172.0  False      1.4    upsloping  0.0   \n",
            "\n",
            "                thal  num  \n",
            "0       fixed defect    0  \n",
            "1             normal    2  \n",
            "2  reversable defect    1  \n",
            "3             normal    0  \n",
            "4             normal    0  \n",
            "dtypes:\n",
            "id            int64\n",
            "age           int64\n",
            "sex          object\n",
            "dataset      object\n",
            "cp           object\n",
            "trestbps    float64\n",
            "chol        float64\n",
            "fbs            bool\n",
            "restecg      object\n",
            "thalch      float64\n",
            "exang          bool\n",
            "oldpeak     float64\n",
            "slope        object\n",
            "ca          float64\n",
            "thal         object\n",
            "num           int64\n",
            "dtype: object\n",
            "info:None\n",
            "sumof nulls:\n",
            "id          0\n",
            "age         0\n",
            "sex         0\n",
            "dataset     0\n",
            "cp          0\n",
            "trestbps    0\n",
            "chol        0\n",
            "fbs         0\n",
            "restecg     0\n",
            "thalch      0\n",
            "exang       0\n",
            "oldpeak     0\n",
            "slope       0\n",
            "ca          0\n",
            "thal        0\n",
            "num         0\n",
            "dtype: int64\n"
          ]
        }
      ]
    },
    {
      "cell_type": "code",
      "source": [],
      "metadata": {
        "id": "F8K6Zqps66Uo"
      },
      "id": "F8K6Zqps66Uo",
      "execution_count": null,
      "outputs": []
    }
  ],
  "metadata": {
    "kernelspec": {
      "display_name": "Python 3",
      "name": "python3"
    },
    "language_info": {
      "codemirror_mode": {
        "name": "ipython",
        "version": 3
      },
      "file_extension": ".py",
      "mimetype": "text/x-python",
      "name": "python",
      "nbconvert_exporter": "python",
      "pygments_lexer": "ipython3",
      "version": "3.10.9"
    },
    "colab": {
      "provenance": [],
      "gpuType": "T4"
    },
    "accelerator": "GPU"
  },
  "nbformat": 4,
  "nbformat_minor": 5
}